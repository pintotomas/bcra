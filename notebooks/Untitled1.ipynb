{
 "cells": [
  {
   "cell_type": "code",
   "execution_count": 1,
   "metadata": {},
   "outputs": [
    {
     "data": {
      "text/html": [
       "<style>.container { width:90% !important; }</style>"
      ],
      "text/plain": [
       "<IPython.core.display.HTML object>"
      ]
     },
     "metadata": {},
     "output_type": "display_data"
    }
   ],
   "source": [
    "import pandas as pd\n",
    "import csv\n",
    "import matplotlib.pyplot as plt\n",
    "import plotly.plotly as py\n",
    "from IPython.core.display import display, HTML\n",
    "display(HTML(\"<style>.container { width:90% !important; }</style>\"))\n",
    "%matplotlib inline\n",
    "import locale\n",
    "import sys  \n",
    "from docx import Document\n",
    "from docx.shared import Inches\n",
    "from docx.shared import Pt\n",
    "from docx.enum.text import WD_LINE_SPACING\n",
    "from docx.enum.text import WD_ALIGN_PARAGRAPH\n",
    "import matplotlib.pylab as pylab\n",
    "from Tkinter import Tk\n",
    "from tkFileDialog import askopenfilename\n",
    "import traceback\n",
    "from docx.oxml.shared import OxmlElement, qn\n"
   ]
  },
  {
   "cell_type": "code",
   "execution_count": 2,
   "metadata": {
    "collapsed": true
   },
   "outputs": [],
   "source": [
    "\n",
    "def set_cell_vertical_alignment(cell, align=\"center\"): \n",
    "    try:   \n",
    "        print(\"Im at try\")\n",
    "        tc = cell._tc\n",
    "        tcPr = tc.get_or_add_tcPr()\n",
    "        tcValign = OxmlElement('w:vAlign')  \n",
    "        tcValign.set(qn('w:val'), align)  \n",
    "        tcPr.append(tcValign)\n",
    "        return True \n",
    "    except:\n",
    "        print(\"Im at except\")\n",
    "        traceback.print_exc()             \n",
    "        return False"
   ]
  },
  {
   "cell_type": "code",
   "execution_count": 3,
   "metadata": {},
   "outputs": [
    {
     "name": "stdout",
     "output_type": "stream",
     "text": [
      "/home/tomas/bcra/lecetomas4.xlt\n"
     ]
    }
   ],
   "source": [
    "\n",
    "Tk().withdraw() # we don't want a full GUI, so keep the root window from appearing\n",
    "filename = askopenfilename() # show an \"Open\" dialog box and return the path to the selected file\n",
    "print(filename)"
   ]
  },
  {
   "cell_type": "code",
   "execution_count": 4,
   "metadata": {
    "collapsed": true
   },
   "outputs": [],
   "source": [
    "def getValue(df,row,col):\n",
    "    return df.iloc[row,col]"
   ]
  },
  {
   "cell_type": "code",
   "execution_count": null,
   "metadata": {
    "collapsed": true
   },
   "outputs": [],
   "source": []
  },
  {
   "cell_type": "code",
   "execution_count": 5,
   "metadata": {
    "collapsed": true
   },
   "outputs": [],
   "source": [
    "row_fecha_desde = 1\n",
    "col_fecha_desde = 3\n",
    "row_fecha_hasta = 1\n",
    "col_fecha_hasta = 4\n",
    "row_rueda = 1\n",
    "col_rueda = 0\n",
    "FECHA_DESDE = getValue(pd.read_excel(filename, header = None),row_fecha_desde, col_fecha_desde).split(\" \")[2]\n",
    "FECHA_HASTA = getValue(pd.read_excel(filename, header = None), row_fecha_hasta, col_fecha_hasta).split(\" \")[2]\n",
    "RUEDA = getValue(pd.read_excel(filename, header = None), row_rueda, col_rueda).split(\" \")[2]"
   ]
  },
  {
   "cell_type": "code",
   "execution_count": 6,
   "metadata": {},
   "outputs": [
    {
     "data": {
      "text/plain": [
       "u'31/01/2018'"
      ]
     },
     "execution_count": 6,
     "metadata": {},
     "output_type": "execute_result"
    }
   ],
   "source": [
    "FECHA_HASTA"
   ]
  },
  {
   "cell_type": "code",
   "execution_count": 7,
   "metadata": {
    "collapsed": true
   },
   "outputs": [],
   "source": [
    "rows_sin_info = [0,1,2,3]\n",
    "#lecetomas4.xlt\n",
    "df = pd.read_excel(filename,skiprows= rows_sin_info)\n",
    "\n",
    "unMillon = float(1000000)"
   ]
  },
  {
   "cell_type": "code",
   "execution_count": 8,
   "metadata": {},
   "outputs": [
    {
     "data": {
      "text/plain": [
       "Index([u'OP.IN', u'NRO.SIOPEL', u'RUEDA', u'ORIGEN', u'F.CON', u'F.LIQ',\n",
       "       u'HORA', u'TIPO', u'PLAZO', u'TASA', u'V.NOMINAL', u'PRECIO', u'MONTO',\n",
       "       u'CONTRAPARTE', u'CD CONTRAPARTE', u'MONEDA', u'ESTADO', u'ESPECIE',\n",
       "       u'MEP', u'USER CARGA', u'FECHA CARGA', u'USER AUT', u'FECHA AUT',\n",
       "       u'TRANSF.', u'CTA. AGENTE'],\n",
       "      dtype='object')"
      ]
     },
     "execution_count": 8,
     "metadata": {},
     "output_type": "execute_result"
    }
   ],
   "source": [
    "df.columns"
   ]
  },
  {
   "cell_type": "code",
   "execution_count": 9,
   "metadata": {
    "collapsed": true
   },
   "outputs": [],
   "source": [
    "banks_with_code = df[\"CONTRAPARTE\"].value_counts().index\n",
    "#bank_names = get_bank_names(banks_with_code)\n",
    "plazos = df[\"PLAZO\"].value_counts().index\n",
    "tipos = df[\"TIPO\"].value_counts().index\n",
    "especies = df[\"ESPECIE\"].value_counts().index\n",
    "rueda = df[\"RUEDA\"].value_counts().index[0]"
   ]
  },
  {
   "cell_type": "code",
   "execution_count": 10,
   "metadata": {
    "collapsed": true
   },
   "outputs": [],
   "source": [
    "info_subgrupos = {}\n",
    "operaciones_tot = []\n",
    "nominales_tot = []\n",
    "importes_tot = []"
   ]
  },
  {
   "cell_type": "code",
   "execution_count": 11,
   "metadata": {
    "collapsed": true
   },
   "outputs": [],
   "source": [
    "def get_name(bank_code):\n",
    "    comienzo_nombre_banco = 2\n",
    "    return \" \".join(bank_code.split(\" \")[comienzo_nombre_banco:])"
   ]
  },
  {
   "cell_type": "code",
   "execution_count": 12,
   "metadata": {
    "collapsed": true
   },
   "outputs": [],
   "source": [
    "#for banco in bancos:\n",
    "#    df_banco_receptor = lece_df_cedente_bcra[lece_df_cedente_bcra[\"   Ag. Receptor\"] == banco]\n",
    "#    cantidad_operaciones = len(df_banco_receptor)\n",
    "#    valor_nominal_total = df_banco_receptor[\"valor nominal\"].sum()\n",
    "#    importe_total = df_banco_receptor[\"Importe\"].sum()\n",
    "#    operaciones_tot.append(cantidad_operaciones)\n",
    "#    nominales_tot.append(valor_nominal_total)\n",
    "#    importes_tot.append(importe_total)\n",
    "#    info_subgrupos_lece_cedente_bcra[banco] = [cantidad_operaciones, valor_nominal_total, importe_total]\n",
    "info_bancos = {}\n",
    "for tipo in tipos:\n",
    "    for plazo in plazos:\n",
    "        df_act = df[(df[\"TIPO\"] == tipo) & (df[\"PLAZO\"] == plazo)]\n",
    "        if len(df_act) == 0:\n",
    "            continue\n",
    "        for bank in banks_with_code:\n",
    "            df_act_bank = df_act[df_act[\"CONTRAPARTE\"] == bank]\n",
    "            if len(df_act_bank) == 0:\n",
    "                continue\n",
    "            valor_nominal_total = df_act_bank[\"V.NOMINAL\"].sum()\n",
    "            monto_total = df_act_bank[\"MONTO\"].sum()\n",
    "            cantidad_de_operaciones = len(df_act_bank)\n",
    "            tasa_promedio = df_act_bank[\"TASA\"].mean()\n",
    "            if bank not in info_bancos:\n",
    "                info_bancos[bank] = [(tipo, plazo, cantidad_de_operaciones, (\"{0:.4f}\".format(valor_nominal_total/unMillon)), (\"{0:.4f}\".format(monto_total/unMillon)), (\"{0:.4f}\".format(tasa_promedio)))]\n",
    "            else:\n",
    "                info_bancos[bank].append((tipo, plazo ,cantidad_de_operaciones,(\"{0:.4f}\".format(valor_nominal_total/unMillon)), (\"{0:.4f}\".format(monto_total/unMillon)), (\"{0:.4f}\".format(tasa_promedio))))"
   ]
  },
  {
   "cell_type": "code",
   "execution_count": 13,
   "metadata": {
    "collapsed": true
   },
   "outputs": [],
   "source": [
    "info_especies = {}\n",
    "for tipo in tipos:\n",
    "    for plazo in plazos:\n",
    "        for especie in especies:\n",
    "            df_act = df[(df[\"TIPO\"] == tipo) & (df[\"PLAZO\"] == plazo) & (df[\"ESPECIE\"] == especie)]\n",
    "            cantidad_de_operaciones = len(df_act)\n",
    "            if (cantidad_de_operaciones == 0):\n",
    "                continue\n",
    "            valor_nominal_total = df_act[\"V.NOMINAL\"].sum()\n",
    "            monto_total = df_act[\"MONTO\"].sum()\n",
    "            if especie not in info_especies:\n",
    "                info_especies[especie] = [(especie, tipo, plazo, int(cantidad_de_operaciones), (\"{0:.4f}\".format(valor_nominal_total/unMillon)), (\"{0:.4f}\".format(monto_total/unMillon)))]\n",
    "            else:\n",
    "                info_especies[especie].append((especie, tipo, plazo, int(cantidad_de_operaciones), (\"{0:.4f}\".format(valor_nominal_total/unMillon)), (\"{0:.4f}\".format(monto_total/unMillon))))"
   ]
  },
  {
   "cell_type": "code",
   "execution_count": 14,
   "metadata": {},
   "outputs": [
    {
     "data": {
      "text/plain": [
       "{46820: [(46820, u'Compra', 0, 171, '17458.6000', '17398.7649'),\n",
       "  (46820, u'Compra', 1, 96, '10586.0000', '10546.6018'),\n",
       "  (46820, u'Compra', 2, 3, '140.0000', '139.7641')],\n",
       " 46821: [(46821, u'Venta', 0, 409, '26572.5000', '26022.3580')],\n",
       " 46822: [(46822, u'Venta', 0, 606, '88864.2469', '86349.1130'),\n",
       "  (46822, u'Venta', 1, 29, '2780.5000', '2682.6854')],\n",
       " 46823: [(46823, u'Venta', 0, 554, '56732.2000', '54013.0244'),\n",
       "  (46823, u'Venta', 1, 6, '277.0000', '265.0624'),\n",
       "  (46823, u'Venta', 2, 9, '845.2000', '815.7585')],\n",
       " 46824: [(46824, u'Venta', 0, 336, '23260.7000', '21732.3092'),\n",
       "  (46824, u'Venta', 1, 11, '753.0000', '711.4968'),\n",
       "  (46824, u'Venta', 2, 11, '949.5000', '899.6680')],\n",
       " 46825: [(46825, u'Venta', 0, 101, '6484.1000', '5913.6224'),\n",
       "  (46825, u'Venta', 1, 3, '200.0000', '182.6899'),\n",
       "  (46825, u'Venta', 2, 10, '900.0000', '822.5874')],\n",
       " 46827: [(46827, u'Venta', 0, 32, '1158.3000', '1021.0876'),\n",
       "  (46827, u'Venta', 1, 14, '1100.0000', '958.9284'),\n",
       "  (46827, u'Venta', 2, 7, '761.0000', '667.5216')],\n",
       " 46828: [(46828, u'Venta', 0, 59, '2124.6000', '1825.2119'),\n",
       "  (46828, u'Venta', 1, 13, '1971.0000', '1687.7181')],\n",
       " 46829: [(46829, u'Venta', 0, 233, '14056.6000', '11822.2619'),\n",
       "  (46829, u'Venta', 1, 33, '3956.1000', '3309.2558'),\n",
       "  (46829, u'Venta', 2, 19, '2680.0000', '2289.7670')],\n",
       " 46830: [(46830, u'Venta', 0, 200, '9575.5000', '8004.1962'),\n",
       "  (46830, u'Venta', 1, 34, '2301.6000', '1928.1017'),\n",
       "  (46830, u'Venta', 2, 26, '4072.7000', '3416.5358')],\n",
       " 46831: [(46831, u'Venta', 0, 36, '2838.6000', '2402.3309'),\n",
       "  (46831, u'Venta', 1, 1, '50.0000', '42.3633'),\n",
       "  (46831, u'Venta', 2, 1, '200.0000', '169.5522')]}"
      ]
     },
     "execution_count": 14,
     "metadata": {},
     "output_type": "execute_result"
    }
   ],
   "source": [
    "info_especies"
   ]
  },
  {
   "cell_type": "code",
   "execution_count": 15,
   "metadata": {
    "collapsed": true
   },
   "outputs": [],
   "source": [
    "\n",
    "\n",
    "def write_to_csv(info_bancos, info_especies):\n",
    "    with open('reporte '+rueda+\" dia ?? lecetom4.csv\", 'wb') as csvfile:\n",
    "        writer = csv.writer(csvfile)\n",
    "        writer.writerow(['Banco','Tipo de operacion', 'Plazo','Cantidad de operaciones', 'Valor nominal total (En millones)', 'Monto total (En millones)', 'Tasa promedio'])\n",
    "        \n",
    "        for bank_code in info_bancos:\n",
    "            data = info_bancos[bank_code] #(tipo, plazo, cantidad_de_operaciones, valor_nominal_total, monto_total)\n",
    "            for tupla in data:\n",
    "                writer.writerow((get_name(bank_code).encode('utf-8'),)+tupla)\n",
    "    with open('reporte '+rueda+'dia ?? lecetom4 especies.csv','wb') as csvfile:\n",
    "        writer = csv.writer(csvfile)\n",
    "        writer.writerow(['Especie','Tipo de operacion', 'Plazo', 'Cantidad de operaciones', 'Valor nominal total (En millones)', 'Monto total (En millones)'])\n",
    "        for especie in info_especies:\n",
    "            data = info_especies[especie]\n",
    "            for tupla in data:\n",
    "                writer.writerow(tupla)"
   ]
  },
  {
   "cell_type": "code",
   "execution_count": 16,
   "metadata": {
    "collapsed": true
   },
   "outputs": [],
   "source": [
    "write_to_csv(info_bancos, info_especies)"
   ]
  },
  {
   "cell_type": "code",
   "execution_count": 17,
   "metadata": {},
   "outputs": [
    {
     "data": {
      "text/plain": [
       "Index([u'OP.IN', u'NRO.SIOPEL', u'RUEDA', u'ORIGEN', u'F.CON', u'F.LIQ',\n",
       "       u'HORA', u'TIPO', u'PLAZO', u'TASA', u'V.NOMINAL', u'PRECIO', u'MONTO',\n",
       "       u'CONTRAPARTE', u'CD CONTRAPARTE', u'MONEDA', u'ESTADO', u'ESPECIE',\n",
       "       u'MEP', u'USER CARGA', u'FECHA CARGA', u'USER AUT', u'FECHA AUT',\n",
       "       u'TRANSF.', u'CTA. AGENTE'],\n",
       "      dtype='object')"
      ]
     },
     "execution_count": 17,
     "metadata": {},
     "output_type": "execute_result"
    }
   ],
   "source": [
    "df.columns"
   ]
  },
  {
   "cell_type": "code",
   "execution_count": 18,
   "metadata": {
    "collapsed": true
   },
   "outputs": [],
   "source": [
    "cantidad_ventas = len(df[df[\"TIPO\"] == \"Venta\"])\n",
    "valor_nominal_total_en_ventas = sum(df[df[\"TIPO\"] == \"Venta\"][\"V.NOMINAL\"])/unMillon\n",
    "valor_nominal_total_en_ventas = float(\"{0:.4f}\".format(valor_nominal_total_en_ventas))\n",
    "importe_total_en_ventas = sum(df[df[\"TIPO\"] == \"Venta\"][\"MONTO\"])/unMillon\n",
    "importe_total_en_ventas = float(\"{0:.4f}\".format(importe_total_en_ventas))\n",
    "tasa_promedio_en_ventas = df[df[\"TIPO\"] == \"Venta\"][\"TASA\"].mean()\n",
    "tasa_promedio_en_ventas = float(\"{0:.4f}\".format(tasa_promedio_en_ventas))\n",
    "cantidad_participantes_en_ventas = len(df[df[\"TIPO\"] == \"Venta\"][\"CONTRAPARTE\"].value_counts())\n",
    "\n",
    "cantidad_compras = len(df[df[\"TIPO\"] == \"Compra\"])\n",
    "valor_nominal_total_en_compras = sum(df[df[\"TIPO\"] == \"Compra\"][\"V.NOMINAL\"])/unMillon\n",
    "valor_nominal_total_en_compras = float(\"{0:.4f}\".format(valor_nominal_total_en_compras))\n",
    "importe_total_en_compras = sum(df[df[\"TIPO\"] == \"Compra\"][\"MONTO\"])/unMillon\n",
    "importe_total_en_compras = float(\"{0:.4f}\".format(importe_total_en_compras))\n",
    "tasa_promedio_en_compras = df[df[\"TIPO\"] == \"Compra\"][\"TASA\"].mean()\n",
    "tasa_promedio_en_compras = float(\"{0:.4f}\".format(tasa_promedio_en_compras))\n",
    "cantidad_de_participantes_en_compras = len(df[df[\"TIPO\"] == \"Compra\"][\"CONTRAPARTE\"].value_counts())"
   ]
  },
  {
   "cell_type": "code",
   "execution_count": 19,
   "metadata": {
    "collapsed": true
   },
   "outputs": [],
   "source": [
    "document = Document()\n",
    "\n",
    "style = document.styles['Normal']\n",
    "font = style.font\n",
    "font.name = 'Arial'\n",
    "font.size = Pt(11)\n"
   ]
  },
  {
   "cell_type": "code",
   "execution_count": 20,
   "metadata": {
    "collapsed": true
   },
   "outputs": [],
   "source": [
    "\n",
    "parrafo_inicial1 = \"487/05/18\"\n",
    "parrafo_inicial2 = \"De: Gerencia de Operaciones con Titulos y Divisas.\"\n",
    "parrafo_inicial3 = \"A: Gerencia Principal de Control y Liquidacion de Operaciones\"\n",
    "p0i = document.add_paragraph()\n",
    "p1i = document.add_paragraph()\n",
    "p2i = document.add_paragraph()\n",
    "\n",
    "propsp0i = p0i.add_run(parrafo_inicial1)\n",
    "propsp1i = p1i.add_run(parrafo_inicial2)\n",
    "propsp2i = p2i.add_run(parrafo_inicial3)\n",
    "\n",
    "propsp0i.bold = True\n",
    "propsp1i.bold = True\n",
    "propsp2i.bold = True\n",
    "\n",
    "p0i.line_spacing_rule = WD_LINE_SPACING.ONE_POINT_FIVE\n",
    "p1i.line_spacing_rule = WD_LINE_SPACING.ONE_POINT_FIVE\n",
    "p2i.line_spacing_rule = WD_LINE_SPACING.ONE_POINT_FIVE\n",
    "\n",
    "p1 = document.add_paragraph(\"Mediante el presente se informan las operaciones de compra venta de LEBACS rueda LECE COM 'A' 4143 liquidadas en el periodo que se realizaron en el periodo \"+FECHA_DESDE+\" hasta \"+FECHA_HASTA+\":\")\n",
    "p2 = document.add_paragraph(\"Rueda LECE - Ventas\")    \n",
    "p0i.style = document.styles['Body Text']\n",
    "p1.style = document.styles['Normal']\n",
    "p2.style = document.styles['Normal']\n",
    "p2.alignment = WD_ALIGN_PARAGRAPH.CENTER\n",
    "table = document.add_table(rows=2, cols=5, style=\"Light List Accent 1\")\n",
    "\n",
    "cabeceras = ['Cantidad de entidades participantes\\n', 'Cantidad de operaciones',\n",
    "             'Total de valores nominales (En millones)\\n', 'Importe total (En millones)', 'Tasa promedio']\n",
    "\n",
    "values_table1 = [cantidad_participantes_en_ventas,\n",
    "                 cantidad_ventas,\n",
    "                 valor_nominal_total_en_ventas,\n",
    "                 importe_total_en_ventas,\n",
    "                 tasa_promedio_en_ventas]\n",
    "\n",
    "values_table2 =  [cantidad_de_participantes_en_compras,\n",
    "                 cantidad_compras,\n",
    "                 valor_nominal_total_en_compras,\n",
    "                 importe_total_en_compras,\n",
    "                 tasa_promedio_en_compras]\n",
    "\n",
    "\n",
    "hdr_cells = table.rows[0].cells\n",
    "for x in range(5):\n",
    "    #hdr_cells[x].text = cabeceras[x]\n",
    "    #hdr_cells[x].paragraphs[0].paragraph_format.alignment=WD_ALIGN_PARAGRAPH.CENTER\n",
    "    px = hdr_cells[x].add_paragraph(cabeceras[x])\n",
    "    px.alignment=WD_ALIGN_PARAGRAPH.CENTER\n",
    "    px.line_spacing_rule = WD_LINE_SPACING.EXACTLY\n",
    "\n",
    "hdr_cells = table.rows[1].cells\n",
    "for x in range(5):\n",
    "    hdr_cells[x].text = \"{:,}\".format(values_table1[x])\n",
    "    hdr_cells[x].paragraphs[0].paragraph_format.alignment=WD_ALIGN_PARAGRAPH.CENTER\n",
    "    \n",
    "document.add_paragraph(\"\")\n",
    "p3 = document.add_paragraph(\"Rueda LECE - Compras\")\n",
    "p3.alignment = WD_ALIGN_PARAGRAPH.CENTER\n",
    "table2 = document.add_table(rows=2, cols=5, style=\"Light List Accent 1\")\n",
    "hdr_cells = table2.rows[0].cells\n",
    "for x in range(5):\n",
    "    #hdr_cells[x].text = cabeceras[x]\n",
    "    #hdr_cells[x].paragraphs[0].paragraph_format.alignment=WD_ALIGN_PARAGRAPH.CENTER\n",
    "    px = hdr_cells[x].add_paragraph(cabeceras[x])\n",
    "    px.alignment=WD_ALIGN_PARAGRAPH.CENTER\n",
    "    px.line_spacing_rule = WD_LINE_SPACING.EXACTLY\n",
    "\n",
    "hdr_cells = table2.rows[1].cells\n",
    "for x in range(5):\n",
    "    hdr_cells[x].text = \"{:,}\".format(values_table2[x])\n",
    "    hdr_cells[x].paragraphs[0].paragraph_format.alignment=WD_ALIGN_PARAGRAPH.CENTER\n",
    "    \n",
    "document.save('demo.docx')"
   ]
  },
  {
   "cell_type": "code",
   "execution_count": 21,
   "metadata": {
    "collapsed": true
   },
   "outputs": [],
   "source": [
    "especies = pd.read_csv(\"reporte LECEdia ?? lecetom4 especies.csv\")"
   ]
  },
  {
   "cell_type": "code",
   "execution_count": 22,
   "metadata": {},
   "outputs": [
    {
     "data": {
      "text/html": [
       "<div>\n",
       "<style>\n",
       "    .dataframe thead tr:only-child th {\n",
       "        text-align: right;\n",
       "    }\n",
       "\n",
       "    .dataframe thead th {\n",
       "        text-align: left;\n",
       "    }\n",
       "\n",
       "    .dataframe tbody tr th {\n",
       "        vertical-align: top;\n",
       "    }\n",
       "</style>\n",
       "<table border=\"1\" class=\"dataframe\">\n",
       "  <thead>\n",
       "    <tr style=\"text-align: right;\">\n",
       "      <th></th>\n",
       "      <th>Especie</th>\n",
       "      <th>Tipo de operacion</th>\n",
       "      <th>Plazo</th>\n",
       "      <th>Cantidad de operaciones</th>\n",
       "      <th>Valor nominal total (En millones)</th>\n",
       "      <th>Monto total (En millones)</th>\n",
       "    </tr>\n",
       "  </thead>\n",
       "  <tbody>\n",
       "    <tr>\n",
       "      <th>0</th>\n",
       "      <td>46820</td>\n",
       "      <td>Compra</td>\n",
       "      <td>0</td>\n",
       "      <td>171</td>\n",
       "      <td>17458.6000</td>\n",
       "      <td>17398.7649</td>\n",
       "    </tr>\n",
       "    <tr>\n",
       "      <th>1</th>\n",
       "      <td>46820</td>\n",
       "      <td>Compra</td>\n",
       "      <td>1</td>\n",
       "      <td>96</td>\n",
       "      <td>10586.0000</td>\n",
       "      <td>10546.6018</td>\n",
       "    </tr>\n",
       "    <tr>\n",
       "      <th>2</th>\n",
       "      <td>46820</td>\n",
       "      <td>Compra</td>\n",
       "      <td>2</td>\n",
       "      <td>3</td>\n",
       "      <td>140.0000</td>\n",
       "      <td>139.7641</td>\n",
       "    </tr>\n",
       "    <tr>\n",
       "      <th>3</th>\n",
       "      <td>46821</td>\n",
       "      <td>Venta</td>\n",
       "      <td>0</td>\n",
       "      <td>409</td>\n",
       "      <td>26572.5000</td>\n",
       "      <td>26022.3580</td>\n",
       "    </tr>\n",
       "    <tr>\n",
       "      <th>4</th>\n",
       "      <td>46822</td>\n",
       "      <td>Venta</td>\n",
       "      <td>0</td>\n",
       "      <td>606</td>\n",
       "      <td>88864.2469</td>\n",
       "      <td>86349.1130</td>\n",
       "    </tr>\n",
       "    <tr>\n",
       "      <th>5</th>\n",
       "      <td>46822</td>\n",
       "      <td>Venta</td>\n",
       "      <td>1</td>\n",
       "      <td>29</td>\n",
       "      <td>2780.5000</td>\n",
       "      <td>2682.6854</td>\n",
       "    </tr>\n",
       "    <tr>\n",
       "      <th>6</th>\n",
       "      <td>46823</td>\n",
       "      <td>Venta</td>\n",
       "      <td>0</td>\n",
       "      <td>554</td>\n",
       "      <td>56732.2000</td>\n",
       "      <td>54013.0244</td>\n",
       "    </tr>\n",
       "    <tr>\n",
       "      <th>7</th>\n",
       "      <td>46823</td>\n",
       "      <td>Venta</td>\n",
       "      <td>1</td>\n",
       "      <td>6</td>\n",
       "      <td>277.0000</td>\n",
       "      <td>265.0624</td>\n",
       "    </tr>\n",
       "    <tr>\n",
       "      <th>8</th>\n",
       "      <td>46823</td>\n",
       "      <td>Venta</td>\n",
       "      <td>2</td>\n",
       "      <td>9</td>\n",
       "      <td>845.2000</td>\n",
       "      <td>815.7585</td>\n",
       "    </tr>\n",
       "    <tr>\n",
       "      <th>9</th>\n",
       "      <td>46824</td>\n",
       "      <td>Venta</td>\n",
       "      <td>0</td>\n",
       "      <td>336</td>\n",
       "      <td>23260.7000</td>\n",
       "      <td>21732.3092</td>\n",
       "    </tr>\n",
       "    <tr>\n",
       "      <th>10</th>\n",
       "      <td>46824</td>\n",
       "      <td>Venta</td>\n",
       "      <td>1</td>\n",
       "      <td>11</td>\n",
       "      <td>753.0000</td>\n",
       "      <td>711.4968</td>\n",
       "    </tr>\n",
       "    <tr>\n",
       "      <th>11</th>\n",
       "      <td>46824</td>\n",
       "      <td>Venta</td>\n",
       "      <td>2</td>\n",
       "      <td>11</td>\n",
       "      <td>949.5000</td>\n",
       "      <td>899.6680</td>\n",
       "    </tr>\n",
       "    <tr>\n",
       "      <th>12</th>\n",
       "      <td>46825</td>\n",
       "      <td>Venta</td>\n",
       "      <td>0</td>\n",
       "      <td>101</td>\n",
       "      <td>6484.1000</td>\n",
       "      <td>5913.6224</td>\n",
       "    </tr>\n",
       "    <tr>\n",
       "      <th>13</th>\n",
       "      <td>46825</td>\n",
       "      <td>Venta</td>\n",
       "      <td>1</td>\n",
       "      <td>3</td>\n",
       "      <td>200.0000</td>\n",
       "      <td>182.6899</td>\n",
       "    </tr>\n",
       "    <tr>\n",
       "      <th>14</th>\n",
       "      <td>46825</td>\n",
       "      <td>Venta</td>\n",
       "      <td>2</td>\n",
       "      <td>10</td>\n",
       "      <td>900.0000</td>\n",
       "      <td>822.5874</td>\n",
       "    </tr>\n",
       "    <tr>\n",
       "      <th>15</th>\n",
       "      <td>46827</td>\n",
       "      <td>Venta</td>\n",
       "      <td>0</td>\n",
       "      <td>32</td>\n",
       "      <td>1158.3000</td>\n",
       "      <td>1021.0876</td>\n",
       "    </tr>\n",
       "    <tr>\n",
       "      <th>16</th>\n",
       "      <td>46827</td>\n",
       "      <td>Venta</td>\n",
       "      <td>1</td>\n",
       "      <td>14</td>\n",
       "      <td>1100.0000</td>\n",
       "      <td>958.9284</td>\n",
       "    </tr>\n",
       "    <tr>\n",
       "      <th>17</th>\n",
       "      <td>46827</td>\n",
       "      <td>Venta</td>\n",
       "      <td>2</td>\n",
       "      <td>7</td>\n",
       "      <td>761.0000</td>\n",
       "      <td>667.5216</td>\n",
       "    </tr>\n",
       "    <tr>\n",
       "      <th>18</th>\n",
       "      <td>46828</td>\n",
       "      <td>Venta</td>\n",
       "      <td>0</td>\n",
       "      <td>59</td>\n",
       "      <td>2124.6000</td>\n",
       "      <td>1825.2119</td>\n",
       "    </tr>\n",
       "    <tr>\n",
       "      <th>19</th>\n",
       "      <td>46828</td>\n",
       "      <td>Venta</td>\n",
       "      <td>1</td>\n",
       "      <td>13</td>\n",
       "      <td>1971.0000</td>\n",
       "      <td>1687.7181</td>\n",
       "    </tr>\n",
       "    <tr>\n",
       "      <th>20</th>\n",
       "      <td>46829</td>\n",
       "      <td>Venta</td>\n",
       "      <td>0</td>\n",
       "      <td>233</td>\n",
       "      <td>14056.6000</td>\n",
       "      <td>11822.2619</td>\n",
       "    </tr>\n",
       "    <tr>\n",
       "      <th>21</th>\n",
       "      <td>46829</td>\n",
       "      <td>Venta</td>\n",
       "      <td>1</td>\n",
       "      <td>33</td>\n",
       "      <td>3956.1000</td>\n",
       "      <td>3309.2558</td>\n",
       "    </tr>\n",
       "    <tr>\n",
       "      <th>22</th>\n",
       "      <td>46829</td>\n",
       "      <td>Venta</td>\n",
       "      <td>2</td>\n",
       "      <td>19</td>\n",
       "      <td>2680.0000</td>\n",
       "      <td>2289.7670</td>\n",
       "    </tr>\n",
       "    <tr>\n",
       "      <th>23</th>\n",
       "      <td>46830</td>\n",
       "      <td>Venta</td>\n",
       "      <td>0</td>\n",
       "      <td>200</td>\n",
       "      <td>9575.5000</td>\n",
       "      <td>8004.1962</td>\n",
       "    </tr>\n",
       "    <tr>\n",
       "      <th>24</th>\n",
       "      <td>46830</td>\n",
       "      <td>Venta</td>\n",
       "      <td>1</td>\n",
       "      <td>34</td>\n",
       "      <td>2301.6000</td>\n",
       "      <td>1928.1017</td>\n",
       "    </tr>\n",
       "    <tr>\n",
       "      <th>25</th>\n",
       "      <td>46830</td>\n",
       "      <td>Venta</td>\n",
       "      <td>2</td>\n",
       "      <td>26</td>\n",
       "      <td>4072.7000</td>\n",
       "      <td>3416.5358</td>\n",
       "    </tr>\n",
       "    <tr>\n",
       "      <th>26</th>\n",
       "      <td>46831</td>\n",
       "      <td>Venta</td>\n",
       "      <td>0</td>\n",
       "      <td>36</td>\n",
       "      <td>2838.6000</td>\n",
       "      <td>2402.3309</td>\n",
       "    </tr>\n",
       "    <tr>\n",
       "      <th>27</th>\n",
       "      <td>46831</td>\n",
       "      <td>Venta</td>\n",
       "      <td>1</td>\n",
       "      <td>1</td>\n",
       "      <td>50.0000</td>\n",
       "      <td>42.3633</td>\n",
       "    </tr>\n",
       "    <tr>\n",
       "      <th>28</th>\n",
       "      <td>46831</td>\n",
       "      <td>Venta</td>\n",
       "      <td>2</td>\n",
       "      <td>1</td>\n",
       "      <td>200.0000</td>\n",
       "      <td>169.5522</td>\n",
       "    </tr>\n",
       "  </tbody>\n",
       "</table>\n",
       "</div>"
      ],
      "text/plain": [
       "    Especie Tipo de operacion  Plazo  Cantidad de operaciones  \\\n",
       "0     46820            Compra      0                      171   \n",
       "1     46820            Compra      1                       96   \n",
       "2     46820            Compra      2                        3   \n",
       "3     46821             Venta      0                      409   \n",
       "4     46822             Venta      0                      606   \n",
       "5     46822             Venta      1                       29   \n",
       "6     46823             Venta      0                      554   \n",
       "7     46823             Venta      1                        6   \n",
       "8     46823             Venta      2                        9   \n",
       "9     46824             Venta      0                      336   \n",
       "10    46824             Venta      1                       11   \n",
       "11    46824             Venta      2                       11   \n",
       "12    46825             Venta      0                      101   \n",
       "13    46825             Venta      1                        3   \n",
       "14    46825             Venta      2                       10   \n",
       "15    46827             Venta      0                       32   \n",
       "16    46827             Venta      1                       14   \n",
       "17    46827             Venta      2                        7   \n",
       "18    46828             Venta      0                       59   \n",
       "19    46828             Venta      1                       13   \n",
       "20    46829             Venta      0                      233   \n",
       "21    46829             Venta      1                       33   \n",
       "22    46829             Venta      2                       19   \n",
       "23    46830             Venta      0                      200   \n",
       "24    46830             Venta      1                       34   \n",
       "25    46830             Venta      2                       26   \n",
       "26    46831             Venta      0                       36   \n",
       "27    46831             Venta      1                        1   \n",
       "28    46831             Venta      2                        1   \n",
       "\n",
       "    Valor nominal total (En millones)  Monto total (En millones)  \n",
       "0                          17458.6000                 17398.7649  \n",
       "1                          10586.0000                 10546.6018  \n",
       "2                            140.0000                   139.7641  \n",
       "3                          26572.5000                 26022.3580  \n",
       "4                          88864.2469                 86349.1130  \n",
       "5                           2780.5000                  2682.6854  \n",
       "6                          56732.2000                 54013.0244  \n",
       "7                            277.0000                   265.0624  \n",
       "8                            845.2000                   815.7585  \n",
       "9                          23260.7000                 21732.3092  \n",
       "10                           753.0000                   711.4968  \n",
       "11                           949.5000                   899.6680  \n",
       "12                          6484.1000                  5913.6224  \n",
       "13                           200.0000                   182.6899  \n",
       "14                           900.0000                   822.5874  \n",
       "15                          1158.3000                  1021.0876  \n",
       "16                          1100.0000                   958.9284  \n",
       "17                           761.0000                   667.5216  \n",
       "18                          2124.6000                  1825.2119  \n",
       "19                          1971.0000                  1687.7181  \n",
       "20                         14056.6000                 11822.2619  \n",
       "21                          3956.1000                  3309.2558  \n",
       "22                          2680.0000                  2289.7670  \n",
       "23                          9575.5000                  8004.1962  \n",
       "24                          2301.6000                  1928.1017  \n",
       "25                          4072.7000                  3416.5358  \n",
       "26                          2838.6000                  2402.3309  \n",
       "27                            50.0000                    42.3633  \n",
       "28                           200.0000                   169.5522  "
      ]
     },
     "execution_count": 22,
     "metadata": {},
     "output_type": "execute_result"
    }
   ],
   "source": [
    "especies"
   ]
  },
  {
   "cell_type": "code",
   "execution_count": 23,
   "metadata": {
    "collapsed": true
   },
   "outputs": [],
   "source": [
    "info_especies_v_nominal = especies[[\"Especie\",\"Tipo de operacion\",\"Cantidad de operaciones\",\"Valor nominal total (En millones)\",\"Monto total (En millones)\"]]"
   ]
  },
  {
   "cell_type": "code",
   "execution_count": 24,
   "metadata": {
    "collapsed": true
   },
   "outputs": [],
   "source": [
    "#info_especies_v_nominal_compras = info_especies_v_nominal[info_especies_v_nominal[\"Tipo de operacion\"] == \"Compra\"][[\"Especie\",\"Valor nominal total (En millones)\",\"Monto total (En millones)\"]]\n",
    "info_especies_v_nominal_ventas = info_especies_v_nominal[info_especies_v_nominal[\"Tipo de operacion\"] == \"Venta\"][[\"Especie\",\"Valor nominal total (En millones)\",\"Cantidad de operaciones\",\"Monto total (En millones)\"]]\n",
    "#info_especies_v_nominal_compras[\"Cantidad de operacinoes\"] = info_especies_v_nominal_compras.apply(lambda row: 1, axis = 1)"
   ]
  },
  {
   "cell_type": "code",
   "execution_count": 25,
   "metadata": {},
   "outputs": [
    {
     "data": {
      "text/html": [
       "<div>\n",
       "<style>\n",
       "    .dataframe thead tr:only-child th {\n",
       "        text-align: right;\n",
       "    }\n",
       "\n",
       "    .dataframe thead th {\n",
       "        text-align: left;\n",
       "    }\n",
       "\n",
       "    .dataframe tbody tr th {\n",
       "        vertical-align: top;\n",
       "    }\n",
       "</style>\n",
       "<table border=\"1\" class=\"dataframe\">\n",
       "  <thead>\n",
       "    <tr style=\"text-align: right;\">\n",
       "      <th></th>\n",
       "      <th>Especie</th>\n",
       "      <th>Valor nominal total (En millones)</th>\n",
       "      <th>Cantidad de operaciones</th>\n",
       "      <th>Monto total (En millones)</th>\n",
       "    </tr>\n",
       "  </thead>\n",
       "  <tbody>\n",
       "    <tr>\n",
       "      <th>3</th>\n",
       "      <td>46821</td>\n",
       "      <td>26572.5000</td>\n",
       "      <td>409</td>\n",
       "      <td>26022.3580</td>\n",
       "    </tr>\n",
       "    <tr>\n",
       "      <th>4</th>\n",
       "      <td>46822</td>\n",
       "      <td>88864.2469</td>\n",
       "      <td>606</td>\n",
       "      <td>86349.1130</td>\n",
       "    </tr>\n",
       "    <tr>\n",
       "      <th>5</th>\n",
       "      <td>46822</td>\n",
       "      <td>2780.5000</td>\n",
       "      <td>29</td>\n",
       "      <td>2682.6854</td>\n",
       "    </tr>\n",
       "    <tr>\n",
       "      <th>6</th>\n",
       "      <td>46823</td>\n",
       "      <td>56732.2000</td>\n",
       "      <td>554</td>\n",
       "      <td>54013.0244</td>\n",
       "    </tr>\n",
       "    <tr>\n",
       "      <th>7</th>\n",
       "      <td>46823</td>\n",
       "      <td>277.0000</td>\n",
       "      <td>6</td>\n",
       "      <td>265.0624</td>\n",
       "    </tr>\n",
       "    <tr>\n",
       "      <th>8</th>\n",
       "      <td>46823</td>\n",
       "      <td>845.2000</td>\n",
       "      <td>9</td>\n",
       "      <td>815.7585</td>\n",
       "    </tr>\n",
       "    <tr>\n",
       "      <th>9</th>\n",
       "      <td>46824</td>\n",
       "      <td>23260.7000</td>\n",
       "      <td>336</td>\n",
       "      <td>21732.3092</td>\n",
       "    </tr>\n",
       "    <tr>\n",
       "      <th>10</th>\n",
       "      <td>46824</td>\n",
       "      <td>753.0000</td>\n",
       "      <td>11</td>\n",
       "      <td>711.4968</td>\n",
       "    </tr>\n",
       "    <tr>\n",
       "      <th>11</th>\n",
       "      <td>46824</td>\n",
       "      <td>949.5000</td>\n",
       "      <td>11</td>\n",
       "      <td>899.6680</td>\n",
       "    </tr>\n",
       "    <tr>\n",
       "      <th>12</th>\n",
       "      <td>46825</td>\n",
       "      <td>6484.1000</td>\n",
       "      <td>101</td>\n",
       "      <td>5913.6224</td>\n",
       "    </tr>\n",
       "    <tr>\n",
       "      <th>13</th>\n",
       "      <td>46825</td>\n",
       "      <td>200.0000</td>\n",
       "      <td>3</td>\n",
       "      <td>182.6899</td>\n",
       "    </tr>\n",
       "    <tr>\n",
       "      <th>14</th>\n",
       "      <td>46825</td>\n",
       "      <td>900.0000</td>\n",
       "      <td>10</td>\n",
       "      <td>822.5874</td>\n",
       "    </tr>\n",
       "    <tr>\n",
       "      <th>15</th>\n",
       "      <td>46827</td>\n",
       "      <td>1158.3000</td>\n",
       "      <td>32</td>\n",
       "      <td>1021.0876</td>\n",
       "    </tr>\n",
       "    <tr>\n",
       "      <th>16</th>\n",
       "      <td>46827</td>\n",
       "      <td>1100.0000</td>\n",
       "      <td>14</td>\n",
       "      <td>958.9284</td>\n",
       "    </tr>\n",
       "    <tr>\n",
       "      <th>17</th>\n",
       "      <td>46827</td>\n",
       "      <td>761.0000</td>\n",
       "      <td>7</td>\n",
       "      <td>667.5216</td>\n",
       "    </tr>\n",
       "    <tr>\n",
       "      <th>18</th>\n",
       "      <td>46828</td>\n",
       "      <td>2124.6000</td>\n",
       "      <td>59</td>\n",
       "      <td>1825.2119</td>\n",
       "    </tr>\n",
       "    <tr>\n",
       "      <th>19</th>\n",
       "      <td>46828</td>\n",
       "      <td>1971.0000</td>\n",
       "      <td>13</td>\n",
       "      <td>1687.7181</td>\n",
       "    </tr>\n",
       "    <tr>\n",
       "      <th>20</th>\n",
       "      <td>46829</td>\n",
       "      <td>14056.6000</td>\n",
       "      <td>233</td>\n",
       "      <td>11822.2619</td>\n",
       "    </tr>\n",
       "    <tr>\n",
       "      <th>21</th>\n",
       "      <td>46829</td>\n",
       "      <td>3956.1000</td>\n",
       "      <td>33</td>\n",
       "      <td>3309.2558</td>\n",
       "    </tr>\n",
       "    <tr>\n",
       "      <th>22</th>\n",
       "      <td>46829</td>\n",
       "      <td>2680.0000</td>\n",
       "      <td>19</td>\n",
       "      <td>2289.7670</td>\n",
       "    </tr>\n",
       "    <tr>\n",
       "      <th>23</th>\n",
       "      <td>46830</td>\n",
       "      <td>9575.5000</td>\n",
       "      <td>200</td>\n",
       "      <td>8004.1962</td>\n",
       "    </tr>\n",
       "    <tr>\n",
       "      <th>24</th>\n",
       "      <td>46830</td>\n",
       "      <td>2301.6000</td>\n",
       "      <td>34</td>\n",
       "      <td>1928.1017</td>\n",
       "    </tr>\n",
       "    <tr>\n",
       "      <th>25</th>\n",
       "      <td>46830</td>\n",
       "      <td>4072.7000</td>\n",
       "      <td>26</td>\n",
       "      <td>3416.5358</td>\n",
       "    </tr>\n",
       "    <tr>\n",
       "      <th>26</th>\n",
       "      <td>46831</td>\n",
       "      <td>2838.6000</td>\n",
       "      <td>36</td>\n",
       "      <td>2402.3309</td>\n",
       "    </tr>\n",
       "    <tr>\n",
       "      <th>27</th>\n",
       "      <td>46831</td>\n",
       "      <td>50.0000</td>\n",
       "      <td>1</td>\n",
       "      <td>42.3633</td>\n",
       "    </tr>\n",
       "    <tr>\n",
       "      <th>28</th>\n",
       "      <td>46831</td>\n",
       "      <td>200.0000</td>\n",
       "      <td>1</td>\n",
       "      <td>169.5522</td>\n",
       "    </tr>\n",
       "  </tbody>\n",
       "</table>\n",
       "</div>"
      ],
      "text/plain": [
       "    Especie  Valor nominal total (En millones)  Cantidad de operaciones  \\\n",
       "3     46821                         26572.5000                      409   \n",
       "4     46822                         88864.2469                      606   \n",
       "5     46822                          2780.5000                       29   \n",
       "6     46823                         56732.2000                      554   \n",
       "7     46823                           277.0000                        6   \n",
       "8     46823                           845.2000                        9   \n",
       "9     46824                         23260.7000                      336   \n",
       "10    46824                           753.0000                       11   \n",
       "11    46824                           949.5000                       11   \n",
       "12    46825                          6484.1000                      101   \n",
       "13    46825                           200.0000                        3   \n",
       "14    46825                           900.0000                       10   \n",
       "15    46827                          1158.3000                       32   \n",
       "16    46827                          1100.0000                       14   \n",
       "17    46827                           761.0000                        7   \n",
       "18    46828                          2124.6000                       59   \n",
       "19    46828                          1971.0000                       13   \n",
       "20    46829                         14056.6000                      233   \n",
       "21    46829                          3956.1000                       33   \n",
       "22    46829                          2680.0000                       19   \n",
       "23    46830                          9575.5000                      200   \n",
       "24    46830                          2301.6000                       34   \n",
       "25    46830                          4072.7000                       26   \n",
       "26    46831                          2838.6000                       36   \n",
       "27    46831                            50.0000                        1   \n",
       "28    46831                           200.0000                        1   \n",
       "\n",
       "    Monto total (En millones)  \n",
       "3                  26022.3580  \n",
       "4                  86349.1130  \n",
       "5                   2682.6854  \n",
       "6                  54013.0244  \n",
       "7                    265.0624  \n",
       "8                    815.7585  \n",
       "9                  21732.3092  \n",
       "10                   711.4968  \n",
       "11                   899.6680  \n",
       "12                  5913.6224  \n",
       "13                   182.6899  \n",
       "14                   822.5874  \n",
       "15                  1021.0876  \n",
       "16                   958.9284  \n",
       "17                   667.5216  \n",
       "18                  1825.2119  \n",
       "19                  1687.7181  \n",
       "20                 11822.2619  \n",
       "21                  3309.2558  \n",
       "22                  2289.7670  \n",
       "23                  8004.1962  \n",
       "24                  1928.1017  \n",
       "25                  3416.5358  \n",
       "26                  2402.3309  \n",
       "27                    42.3633  \n",
       "28                   169.5522  "
      ]
     },
     "execution_count": 25,
     "metadata": {},
     "output_type": "execute_result"
    }
   ],
   "source": [
    "info_especies_v_nominal_ventas"
   ]
  },
  {
   "cell_type": "code",
   "execution_count": 26,
   "metadata": {
    "collapsed": true
   },
   "outputs": [],
   "source": [
    "#info_especies_v_nominal_compras.set_index(\"Especie\", inplace = True)\n",
    "info_especies_v_nominal_ventas.set_index(\"Especie\", inplace = True)"
   ]
  },
  {
   "cell_type": "code",
   "execution_count": 27,
   "metadata": {},
   "outputs": [],
   "source": [
    "#info_especies_v_nominal_compras = info_especies_v_nominal_compras.groupby(level=0).sum()\n",
    "info_especies_v_nominal_ventas = info_especies_v_nominal_ventas.groupby(level=0).sum()\n",
    "#info_especies_v_nominal_ventas"
   ]
  },
  {
   "cell_type": "code",
   "execution_count": 28,
   "metadata": {
    "collapsed": true
   },
   "outputs": [],
   "source": [
    "#tablas = [info_especies_v_nominal_compras.reset_index(), info_especies_v_nominal_ventas.reset_index()]\n",
    "tablas = [info_especies_v_nominal_ventas.reset_index()]\n",
    "document.add_page_break()\n",
    "parag = [\"Rueda LECE especies vendidas\"]\n",
    "#PREGUNTAR SI LAS ESPECIES COMPRADAS TIENEN QUE IR EN EL DOCUMENTO GENERADO O NO\n",
    "for x in range(len(tablas)):\n",
    "    # add a table to the end and create a reference variable\n",
    "    # extra row is so we can add the header row\n",
    "    title = document.add_paragraph(parag[x])\n",
    "    title.alignment = WD_ALIGN_PARAGRAPH.CENTER\n",
    "    t = document.add_table(tablas[x].shape[0]+1, tablas[x].shape[1], style = \"Medium Shading 2 Accent 1\")\n",
    "    \n",
    "    # add the header rows.\n",
    "    for j in range(tablas[x].shape[-1]):\n",
    "        #t.cell(0,j).text = tablas[x].columns[j]\n",
    "        px = t.cell(0,j).add_paragraph(tablas[x].columns[j]+\"\\n\")\n",
    "        px.alignment=WD_ALIGN_PARAGRAPH.CENTER\n",
    "    \n",
    "    # add the rest of the data frame\n",
    "    for i in range(tablas[x].shape[0]):\n",
    "        for j in range(tablas[x].shape[-1]):\n",
    "            if j != 0 and j !=2:\n",
    "                t.cell(i+1,j).text = \"{:,}\".format(tablas[x].values[i,j])\n",
    "            else:\n",
    "                t.cell(i+1,j).text = str(int(tablas[x].values[i,j]))\n",
    "            t.cell(i+1, j).paragraphs[0].paragraph_format.alignment=WD_ALIGN_PARAGRAPH.CENTER\n",
    "    \n",
    "    document.add_paragraph(\"\")\n",
    "document.save('demo.docx')"
   ]
  },
  {
   "cell_type": "code",
   "execution_count": 29,
   "metadata": {
    "collapsed": true
   },
   "outputs": [],
   "source": [
    "#datas = [info_especies_v_nominal_compras, info_especies_v_nominal_ventas]\n",
    "datas = [info_especies_v_nominal_ventas]\n",
    "titles = [\"Valor nominal por especie (En millones) (Ventas)\"]"
   ]
  },
  {
   "cell_type": "code",
   "execution_count": 30,
   "metadata": {
    "collapsed": true
   },
   "outputs": [],
   "source": [
    "#GRAFICO DE TORTA (Deprecated, se guardan en el word y se ven horribles)\n",
    "\n",
    "#titles = [\"Valor nominal por especie (Compras)\", \"Valor nominal por especie (Ventas)\"]\n",
    "#datas = [info_especies_v_nominal_compras, info_especies_v_nominal_ventas]\n",
    "#for i in range(len(datas)):\n",
    "#    explode = (0.1,)*len(datas[i])\n",
    "#    ax = datas[i][\"Valor nominal total\"].plot(kind = \"pie\",\\\n",
    "#                            fontsize=20,figsize = (20,20), rot = 45, legend = False,autopct='%1.1f%%',explode=explode)\n",
    "#    ax.set_title(titles[i], fontsize=20)\n",
    "#    ax.set_ylabel(\"\")\n",
    "#    plt.savefig(titles[i],bbox_inches=\"tight\")\n",
    "#    plt.clf()"
   ]
  },
  {
   "cell_type": "code",
   "execution_count": 31,
   "metadata": {
    "collapsed": true
   },
   "outputs": [],
   "source": [
    "import matplotlib.ticker as ticker"
   ]
  },
  {
   "cell_type": "code",
   "execution_count": 32,
   "metadata": {},
   "outputs": [
    {
     "data": {
      "image/png": "[encoded data removed]",
      "text/plain": [
       "<matplotlib.figure.Figure at 0x7f0587a9c450>"
      ]
     },
     "metadata": {},
     "output_type": "display_data"
    }
   ],
   "source": [
    "for i in range(len(datas)):\n",
    "    #my_colors = [(x/len(datas[i]), x/len(datas[i]), 0.30) for x in range(len(datas[i]))] # <-- Quick gradient example along the Red/Green dimensions.\n",
    "    ax = datas[i][\"Valor nominal total (En millones)\"].plot(kind = \"barh\",\\\n",
    "                            fontsize=8,figsize = (6,6), legend = False)\n",
    "    ax.set_xlabel('Cantidad', fontsize=8);\n",
    "    ax.get_xaxis().set_major_formatter(ticker.FuncFormatter(lambda x, p: format(int(x), ',')))\n",
    "    ax.set_title(titles[i], fontsize=8)\n",
    "    ax.set_ylabel(\"\")\n",
    "    plt.savefig(titles[i],bbox_inches=\"tight\")"
   ]
  },
  {
   "cell_type": "code",
   "execution_count": 33,
   "metadata": {},
   "outputs": [
    {
     "data": {
      "text/plain": [
       "<docx.text.paragraph.Paragraph at 0x7f0587aa6090>"
      ]
     },
     "execution_count": 33,
     "metadata": {},
     "output_type": "execute_result"
    }
   ],
   "source": [
    "for graph in titles:\n",
    "    document.add_picture(graph+\".png\")\n",
    "\n",
    "document.add_page_break()\n",
    "document.add_paragraph(\"\\nEl detalle de las operaciones es: \")\n"
   ]
  },
  {
   "cell_type": "code",
   "execution_count": 34,
   "metadata": {
    "collapsed": true
   },
   "outputs": [],
   "source": [
    "document.save('demo.docx')"
   ]
  },
  {
   "cell_type": "code",
   "execution_count": 35,
   "metadata": {
    "collapsed": true
   },
   "outputs": [],
   "source": [
    "info_entidades = pd.read_csv(\"reporte LECE dia ?? lecetom4.csv\")"
   ]
  },
  {
   "cell_type": "code",
   "execution_count": 36,
   "metadata": {
    "collapsed": true
   },
   "outputs": [],
   "source": [
    "\n",
    "\n",
    "reload(sys)  \n",
    "sys.setdefaultencoding('utf8')\n",
    "# i am not sure how you are getting your data, but you said it is a\n",
    "# pandas data frame\n",
    "\n",
    "\n"
   ]
  },
  {
   "cell_type": "code",
   "execution_count": 37,
   "metadata": {
    "collapsed": true
   },
   "outputs": [],
   "source": [
    "info_ent_ventas = info_entidades[info_entidades[\"Tipo de operacion\"] == \"Venta\"][[\"Banco\",\"Plazo\",\"Cantidad de operaciones\",\"Valor nominal total (En millones)\",\"Monto total (En millones)\",\"Tasa promedio\"]]\n",
    "info_ent_compras = info_entidades[info_entidades[\"Tipo de operacion\"] == \"Compra\"][[\"Banco\",\"Plazo\",\"Cantidad de operaciones\",\"Valor nominal total (En millones)\",\"Monto total (En millones)\",\"Tasa promedio\"]]\n"
   ]
  },
  {
   "cell_type": "code",
   "execution_count": 38,
   "metadata": {
    "collapsed": true
   },
   "outputs": [],
   "source": [
    "# add a table to the end and create a reference variable\n",
    "# extra row is so we can add the header row\n",
    "title = document.add_paragraph(\"Rueda LECE - Ventas - Operaciones por entidades\")\n",
    "title.alignment = WD_ALIGN_PARAGRAPH.CENTER\n",
    "t = document.add_table(info_ent_ventas.shape[0]+1, info_ent_ventas.shape[1], style = \"Medium Shading 1 Accent 1\")\n",
    "# add the header rows.\n",
    "for j in range(info_ent_ventas.shape[-1]):\n",
    "    #t.cell(0,j).text = info_ent_ventas.columns[j]\n",
    "    px = t.cell(0,j).add_paragraph(info_ent_ventas.columns[j]+\"\\n\")\n",
    "    px.alignment=WD_ALIGN_PARAGRAPH.CENTER\n",
    "# add the rest of the data frame\n",
    "for i in range(info_ent_ventas.shape[0]):\n",
    "    for j in range(info_ent_ventas.shape[-1]):\n",
    "        if ((i!= 0) & (j!= 0) & (j!= 1)):\n",
    "            t.cell(i+1,j).text = \"{:,}\".format(info_ent_ventas.values[i,j])\n",
    "        else:\n",
    "            t.cell(i+1,j).text = unicode(str(info_ent_ventas.values[i,j]))\n",
    "        t.cell(i+1, j).paragraphs[0].paragraph_format.alignment=WD_ALIGN_PARAGRAPH.CENTER\n",
    "        set_cell_vertical_alignment(t.cell(i+1, j))\n",
    "            \n",
    "            ##SECOND TABLE###\n",
    "            \n",
    "title = document.add_paragraph(\"\\nRueda LECE - Compras - Operaciones por entidades\")\n",
    "title.alignment = WD_ALIGN_PARAGRAPH.CENTER\n",
    "# add a table to the end and create a reference variable\n",
    "# extra row is so we can add the header row\n",
    "t = document.add_table(info_ent_compras.shape[0]+1, info_ent_compras.shape[1], style = \"Medium Shading 1 Accent 1\")\n",
    "# add the header rows.\n",
    "for j in range(info_ent_compras.shape[-1]):\n",
    "    #t.cell(0,j).text = info_ent_compras.columns[j]\n",
    "    px = t.cell(0,j).add_paragraph(info_ent_compras.columns[j]+\"\\n\")\n",
    "    px.alignment=WD_ALIGN_PARAGRAPH.CENTER\n",
    "# add the rest of the data frame\n",
    "for i in range(info_ent_compras.shape[0]):\n",
    "    for j in range(info_ent_compras.shape[-1]):\n",
    "        if ((i!= 0) & (j!= 0) & (j!= 1)):\n",
    "            t.cell(i+1,j).text = \"{:,}\".format(info_ent_compras.values[i,j])\n",
    "        else:\n",
    "            t.cell(i+1,j).text = unicode(str(info_ent_compras.values[i,j]))\n",
    "        t.cell(i+1, j).paragraphs[0].paragraph_format.alignment=WD_ALIGN_PARAGRAPH.CENTER\n",
    "        set_cell_vertical_alignment(t.cell(i+1, j))"
   ]
  },
  {
   "cell_type": "code",
   "execution_count": 39,
   "metadata": {
    "collapsed": true
   },
   "outputs": [],
   "source": [
    "document.save('demo.docx')"
   ]
  },
  {
   "cell_type": "code",
   "execution_count": null,
   "metadata": {
    "collapsed": true
   },
   "outputs": [],
   "source": []
  },
  {
   "cell_type": "code",
   "execution_count": 40,
   "metadata": {
    "collapsed": true
   },
   "outputs": [],
   "source": [
    "titles = [\"(Ventas) Cantidad de operaciones\",\"(Ventas) Valor nominal total\",\"(Ventas) Monto total\",\"(Ventas) Tasa promedio\",\n",
    "         \"(Compras) Cantidad de operaciones\",\"(Compras) Valor nominal total\",\"(Compras) Monto total\",\"(Compras) Tasa promedio\"]\n",
    "datas = [info_ent_ventas[[\"Banco\", \"Cantidad de operaciones\"]].set_index(\"Banco\"), info_ent_ventas[[\"Banco\", \"Valor nominal total (En millones)\"]].set_index(\"Banco\"), info_ent_ventas[[\"Banco\", \"Monto total (En millones)\"]].set_index(\"Banco\"), info_ent_ventas[[\"Banco\", \"Tasa promedio\"]].set_index(\"Banco\"),\n",
    "        info_ent_compras[[\"Banco\", \"Cantidad de operaciones\"]].set_index(\"Banco\"), info_ent_compras[[\"Banco\", \"Valor nominal total (En millones)\"]].set_index(\"Banco\"), info_ent_compras[[\"Banco\", \"Monto total (En millones)\"]].set_index(\"Banco\"), info_ent_compras[[\"Banco\", \"Tasa promedio\"]].set_index(\"Banco\")]"
   ]
  },
  {
   "cell_type": "code",
   "execution_count": 41,
   "metadata": {
    "collapsed": true,
    "scrolled": false
   },
   "outputs": [],
   "source": [
    "\n",
    "#for i in range(len(datas)):\n",
    "#    my_colors = [(x/len(datas[i]), x/len(datas[i]), 0.30) for x in range(len(datas[i]))] # <-- Quick gradient example along the Red/Green dimensions.\n",
    "#    ax = datas[i].plot(kind = \"barh\",\\\n",
    "#                            color = my_colors ,\\\n",
    "#                            fontsize=8,figsize = (8,25), legend = False)\n",
    "#    ax.set_xlabel('Cantidad', fontsize=8);\n",
    "#    ax.set_title(titles[i], fontsize=8)\n",
    "#    ax.set_ylabel(\"\")\n",
    "#    plt.savefig(titles[i],bbox_inches=\"tight\")"
   ]
  },
  {
   "cell_type": "code",
   "execution_count": 42,
   "metadata": {
    "collapsed": true
   },
   "outputs": [],
   "source": [
    "#for title in titles:\n",
    "#    document.add_picture(title+\".png\")"
   ]
  },
  {
   "cell_type": "code",
   "execution_count": 43,
   "metadata": {
    "collapsed": true
   },
   "outputs": [],
   "source": [
    "document.save('demo.docx')"
   ]
  },
  {
   "cell_type": "markdown",
   "metadata": {},
   "source": [
    "# Graficos en excel"
   ]
  },
  {
   "cell_type": "markdown",
   "metadata": {},
   "source": [
    "## Supuse que no se tiene en cuenta el plazo para los graficos"
   ]
  },
  {
   "cell_type": "code",
   "execution_count": 44,
   "metadata": {
    "collapsed": true
   },
   "outputs": [],
   "source": [
    "info_ent_ventas2 = info_ent_ventas[[\"Banco\",\"Cantidad de operaciones\",\"Valor nominal total (En millones)\",\"Monto total (En millones)\"]].set_index(\"Banco\")\n",
    "info_ent_compras2 = info_ent_compras[[\"Banco\",\"Cantidad de operaciones\",\"Valor nominal total (En millones)\",\"Monto total (En millones)\"]].set_index(\"Banco\")"
   ]
  },
  {
   "cell_type": "code",
   "execution_count": 45,
   "metadata": {
    "collapsed": true
   },
   "outputs": [],
   "source": [
    "info_ent_ventas2 = info_ent_ventas2.groupby(level=0).sum()\n",
    "info_ent_compras2 = info_ent_compras2.groupby(level=0).sum()"
   ]
  },
  {
   "cell_type": "code",
   "execution_count": 46,
   "metadata": {},
   "outputs": [
    {
     "data": {
      "text/html": [
       "<div>\n",
       "<style>\n",
       "    .dataframe thead tr:only-child th {\n",
       "        text-align: right;\n",
       "    }\n",
       "\n",
       "    .dataframe thead th {\n",
       "        text-align: left;\n",
       "    }\n",
       "\n",
       "    .dataframe tbody tr th {\n",
       "        vertical-align: top;\n",
       "    }\n",
       "</style>\n",
       "<table border=\"1\" class=\"dataframe\">\n",
       "  <thead>\n",
       "    <tr style=\"text-align: right;\">\n",
       "      <th></th>\n",
       "      <th>Cantidad de operaciones</th>\n",
       "      <th>Valor nominal total (En millones)</th>\n",
       "      <th>Monto total (En millones)</th>\n",
       "    </tr>\n",
       "    <tr>\n",
       "      <th>Banco</th>\n",
       "      <th></th>\n",
       "      <th></th>\n",
       "      <th></th>\n",
       "    </tr>\n",
       "  </thead>\n",
       "  <tbody>\n",
       "    <tr>\n",
       "      <th>BANCO CMF S.A.</th>\n",
       "      <td>1</td>\n",
       "      <td>31.4</td>\n",
       "      <td>31.2418</td>\n",
       "    </tr>\n",
       "    <tr>\n",
       "      <th>BANCO CREDICOOP COOP.LTDO</th>\n",
       "      <td>11</td>\n",
       "      <td>1050.0</td>\n",
       "      <td>1049.0658</td>\n",
       "    </tr>\n",
       "    <tr>\n",
       "      <th>BANCO DE GALICIA Y BUENOS AIRES S.A.</th>\n",
       "      <td>52</td>\n",
       "      <td>5335.0</td>\n",
       "      <td>5318.6531</td>\n",
       "    </tr>\n",
       "    <tr>\n",
       "      <th>BANCO DE LA PROVINCIA DE BUENOS AIRES</th>\n",
       "      <td>3</td>\n",
       "      <td>187.0</td>\n",
       "      <td>185.7381</td>\n",
       "    </tr>\n",
       "    <tr>\n",
       "      <th>BANCO DE LA PROVINCIA DE CORDOBA</th>\n",
       "      <td>7</td>\n",
       "      <td>401.1</td>\n",
       "      <td>399.9116</td>\n",
       "    </tr>\n",
       "    <tr>\n",
       "      <th>BANCO HIPOTECARIO SA</th>\n",
       "      <td>9</td>\n",
       "      <td>480.0</td>\n",
       "      <td>478.6666</td>\n",
       "    </tr>\n",
       "    <tr>\n",
       "      <th>BANCO INDUSTRIAL SA</th>\n",
       "      <td>6</td>\n",
       "      <td>650.0</td>\n",
       "      <td>648.8913</td>\n",
       "    </tr>\n",
       "    <tr>\n",
       "      <th>BANCO ITAU ARGENTINA S.A.</th>\n",
       "      <td>13</td>\n",
       "      <td>1850.0</td>\n",
       "      <td>1842.3468</td>\n",
       "    </tr>\n",
       "    <tr>\n",
       "      <th>BANCO PATAGONIA SA</th>\n",
       "      <td>24</td>\n",
       "      <td>2390.0</td>\n",
       "      <td>2379.9965</td>\n",
       "    </tr>\n",
       "    <tr>\n",
       "      <th>BANCO SANTANDER RIO SA</th>\n",
       "      <td>8</td>\n",
       "      <td>1160.0</td>\n",
       "      <td>1158.7087</td>\n",
       "    </tr>\n",
       "    <tr>\n",
       "      <th>BANCO SUPERVIELLE SA</th>\n",
       "      <td>15</td>\n",
       "      <td>2350.0</td>\n",
       "      <td>2337.9474</td>\n",
       "    </tr>\n",
       "    <tr>\n",
       "      <th>BBVA BANCO FRANCES S.A.</th>\n",
       "      <td>23</td>\n",
       "      <td>2982.1</td>\n",
       "      <td>2973.0136</td>\n",
       "    </tr>\n",
       "    <tr>\n",
       "      <th>BCO MACRO SA</th>\n",
       "      <td>7</td>\n",
       "      <td>770.0</td>\n",
       "      <td>766.7659</td>\n",
       "    </tr>\n",
       "    <tr>\n",
       "      <th>BNP PARIBAS</th>\n",
       "      <td>5</td>\n",
       "      <td>250.0</td>\n",
       "      <td>248.5225</td>\n",
       "    </tr>\n",
       "    <tr>\n",
       "      <th>CITIBANK N.A.</th>\n",
       "      <td>31</td>\n",
       "      <td>1934.0</td>\n",
       "      <td>1926.4569</td>\n",
       "    </tr>\n",
       "    <tr>\n",
       "      <th>HSBC BANK ARGENTINA S.A.</th>\n",
       "      <td>46</td>\n",
       "      <td>5550.0</td>\n",
       "      <td>5528.4703</td>\n",
       "    </tr>\n",
       "    <tr>\n",
       "      <th>INDUST AND COMMERC BANK OF CHINA (ARG) SA</th>\n",
       "      <td>1</td>\n",
       "      <td>100.0</td>\n",
       "      <td>99.5772</td>\n",
       "    </tr>\n",
       "    <tr>\n",
       "      <th>JP MORGAN CHASE BANK SUC.BS.AS.</th>\n",
       "      <td>1</td>\n",
       "      <td>200.0</td>\n",
       "      <td>198.8180</td>\n",
       "    </tr>\n",
       "    <tr>\n",
       "      <th>MERRIL LYNCH ARGENTINA SA</th>\n",
       "      <td>4</td>\n",
       "      <td>189.0</td>\n",
       "      <td>187.8740</td>\n",
       "    </tr>\n",
       "    <tr>\n",
       "      <th>MULTIFINANZAS COMPAÐIA FINANCIERA S.A.</th>\n",
       "      <td>1</td>\n",
       "      <td>25.0</td>\n",
       "      <td>24.9787</td>\n",
       "    </tr>\n",
       "    <tr>\n",
       "      <th>NUEVO BANCO DE SANTA FE S.A.</th>\n",
       "      <td>2</td>\n",
       "      <td>300.0</td>\n",
       "      <td>299.4859</td>\n",
       "    </tr>\n",
       "  </tbody>\n",
       "</table>\n",
       "</div>"
      ],
      "text/plain": [
       "                                           Cantidad de operaciones  \\\n",
       "Banco                                                                \n",
       "BANCO CMF S.A.                                                   1   \n",
       "BANCO CREDICOOP COOP.LTDO                                       11   \n",
       "BANCO DE GALICIA Y BUENOS AIRES S.A.                            52   \n",
       "BANCO DE LA PROVINCIA DE BUENOS AIRES                            3   \n",
       "BANCO DE LA PROVINCIA DE CORDOBA                                 7   \n",
       "BANCO HIPOTECARIO SA                                             9   \n",
       "BANCO INDUSTRIAL SA                                              6   \n",
       "BANCO ITAU ARGENTINA S.A.                                       13   \n",
       "BANCO PATAGONIA SA                                              24   \n",
       "BANCO SANTANDER RIO SA                                           8   \n",
       "BANCO SUPERVIELLE SA                                            15   \n",
       "BBVA BANCO FRANCES S.A.                                         23   \n",
       "BCO MACRO SA                                                     7   \n",
       "BNP PARIBAS                                                      5   \n",
       "CITIBANK N.A.                                                   31   \n",
       "HSBC BANK ARGENTINA S.A.                                        46   \n",
       "INDUST AND COMMERC BANK OF CHINA (ARG) SA                        1   \n",
       "JP MORGAN CHASE BANK SUC.BS.AS.                                  1   \n",
       "MERRIL LYNCH ARGENTINA SA                                        4   \n",
       "MULTIFINANZAS COMPAÐIA FINANCIERA S.A.                           1   \n",
       "NUEVO BANCO DE SANTA FE S.A.                                     2   \n",
       "\n",
       "                                           Valor nominal total (En millones)  \\\n",
       "Banco                                                                          \n",
       "BANCO CMF S.A.                                                          31.4   \n",
       "BANCO CREDICOOP COOP.LTDO                                             1050.0   \n",
       "BANCO DE GALICIA Y BUENOS AIRES S.A.                                  5335.0   \n",
       "BANCO DE LA PROVINCIA DE BUENOS AIRES                                  187.0   \n",
       "BANCO DE LA PROVINCIA DE CORDOBA                                       401.1   \n",
       "BANCO HIPOTECARIO SA                                                   480.0   \n",
       "BANCO INDUSTRIAL SA                                                    650.0   \n",
       "BANCO ITAU ARGENTINA S.A.                                             1850.0   \n",
       "BANCO PATAGONIA SA                                                    2390.0   \n",
       "BANCO SANTANDER RIO SA                                                1160.0   \n",
       "BANCO SUPERVIELLE SA                                                  2350.0   \n",
       "BBVA BANCO FRANCES S.A.                                               2982.1   \n",
       "BCO MACRO SA                                                           770.0   \n",
       "BNP PARIBAS                                                            250.0   \n",
       "CITIBANK N.A.                                                         1934.0   \n",
       "HSBC BANK ARGENTINA S.A.                                              5550.0   \n",
       "INDUST AND COMMERC BANK OF CHINA (ARG) SA                              100.0   \n",
       "JP MORGAN CHASE BANK SUC.BS.AS.                                        200.0   \n",
       "MERRIL LYNCH ARGENTINA SA                                              189.0   \n",
       "MULTIFINANZAS COMPAÐIA FINANCIERA S.A.                                  25.0   \n",
       "NUEVO BANCO DE SANTA FE S.A.                                           300.0   \n",
       "\n",
       "                                           Monto total (En millones)  \n",
       "Banco                                                                 \n",
       "BANCO CMF S.A.                                               31.2418  \n",
       "BANCO CREDICOOP COOP.LTDO                                  1049.0658  \n",
       "BANCO DE GALICIA Y BUENOS AIRES S.A.                       5318.6531  \n",
       "BANCO DE LA PROVINCIA DE BUENOS AIRES                       185.7381  \n",
       "BANCO DE LA PROVINCIA DE CORDOBA                            399.9116  \n",
       "BANCO HIPOTECARIO SA                                        478.6666  \n",
       "BANCO INDUSTRIAL SA                                         648.8913  \n",
       "BANCO ITAU ARGENTINA S.A.                                  1842.3468  \n",
       "BANCO PATAGONIA SA                                         2379.9965  \n",
       "BANCO SANTANDER RIO SA                                     1158.7087  \n",
       "BANCO SUPERVIELLE SA                                       2337.9474  \n",
       "BBVA BANCO FRANCES S.A.                                    2973.0136  \n",
       "BCO MACRO SA                                                766.7659  \n",
       "BNP PARIBAS                                                 248.5225  \n",
       "CITIBANK N.A.                                              1926.4569  \n",
       "HSBC BANK ARGENTINA S.A.                                   5528.4703  \n",
       "INDUST AND COMMERC BANK OF CHINA (ARG) SA                    99.5772  \n",
       "JP MORGAN CHASE BANK SUC.BS.AS.                             198.8180  \n",
       "MERRIL LYNCH ARGENTINA SA                                   187.8740  \n",
       "MULTIFINANZAS COMPAÐIA FINANCIERA S.A.                       24.9787  \n",
       "NUEVO BANCO DE SANTA FE S.A.                                299.4859  "
      ]
     },
     "execution_count": 46,
     "metadata": {},
     "output_type": "execute_result"
    }
   ],
   "source": [
    "info_ent_compras2"
   ]
  },
  {
   "cell_type": "code",
   "execution_count": 47,
   "metadata": {
    "collapsed": true
   },
   "outputs": [],
   "source": [
    "params = {'legend.fontsize': 20,\n",
    "          'figure.figsize': (6,10),\n",
    "         'axes.labelsize': 'x-large',\n",
    "         'axes.titlesize':20,\n",
    "         'xtick.labelsize':'x-large',\n",
    "         'ytick.labelsize':'x-large'}\n",
    "pylab.rcParams.update(params)"
   ]
  },
  {
   "cell_type": "code",
   "execution_count": 48,
   "metadata": {},
   "outputs": [
    {
     "data": {
      "text/plain": [
       "<matplotlib.figure.Figure at 0x7f0587b72b50>"
      ]
     },
     "metadata": {},
     "output_type": "display_data"
    }
   ],
   "source": [
    "data = [info_ent_ventas2, info_ent_compras2]\n",
    "titles = [ \"Rueda LECE operaciones de venta - Cantidad de operaciones\",\"Rueda LECE operaciones de venta - Cantidad de operaciones top 5\",\"Rueda LECE operaciones de venta - Valor nominal total (En millones)\", \"Rueda LECE operaciones de venta - Valor nominal total (En millones) top 5\",\"Rueda LECE operaciones de venta - Importe total (En millones)\", \"Rueda LECE operaciones de venta - Importe total (En millones) top 5\",\n",
    "         \"Rueda LECE operaciones de compra - Cantidad de operaciones\",\"Rueda LECE operaciones de compra - Cantidad de operaciones top 5\",\"Rueda LECE operaciones de compra - Valor nominal total (En millones)\", \"Rueda LECE operaciones de compra - Valor nominal total (En millones) top 5\",\"Rueda LECE operaciones de compra - Importe total (En millones)\", \"Rueda LECE operaciones de compra - Importe total (En millones) top 5\"]\n",
    "columns = info_ent_ventas2.columns\n",
    "counter = 0\n",
    "for dataframe in data:\n",
    "    for column in columns:\n",
    "        data_actual = dataframe[column]\n",
    "        ax = data_actual.plot(kind=\"barh\", title = titles[counter])\n",
    "        ax.get_xaxis().set_major_formatter(ticker.FuncFormatter(lambda x, p: format(int(x), ',')))\n",
    "        pylab.ylabel(\"\")\n",
    "        plt.savefig(titles[counter], bbox_inches=\"tight\")\n",
    "        counter += 1\n",
    "        pylab.ylabel(\"\")\n",
    "        plt.clf()\n",
    "        data_actual = data_actual.sort_values(ascending = False)\n",
    "        top5 = data_actual.head(5)\n",
    "        explode = (0.1,)*len(top5)\n",
    "        top5.plot(kind = \"pie\",\\\n",
    "                            rot = 45, legend = False,autopct='%1.1f%%',explode=explode, title = titles[counter])\n",
    "        \n",
    "        pylab.ylabel(\"\")\n",
    "    \n",
    "        plt.savefig(titles[counter], bbox_inches=\"tight\")\n",
    "        plt.clf()\n",
    "        counter+=1"
   ]
  },
  {
   "cell_type": "code",
   "execution_count": 49,
   "metadata": {
    "collapsed": true
   },
   "outputs": [],
   "source": [
    "fechas = df[\"F.LIQ\"].value_counts().index\n",
    "fechas = fechas.sort_values()\n",
    "info_tasa_por_dia = {}\n",
    "for fecha in fechas:\n",
    "    df_act = df[df[\"F.LIQ\"] == fecha]\n",
    "    tasa_prom = df_act[\"TASA\"].mean()\n",
    "    info_tasa_por_dia[fecha] = tasa_prom"
   ]
  },
  {
   "cell_type": "code",
   "execution_count": 50,
   "metadata": {
    "collapsed": true
   },
   "outputs": [],
   "source": [
    "#Grafico de la tasa promedio diaria\n",
    "tasaDiara_df = pd.Series(info_tasa_por_dia,index=info_tasa_por_dia.keys())"
   ]
  },
  {
   "cell_type": "code",
   "execution_count": 51,
   "metadata": {
    "collapsed": true
   },
   "outputs": [],
   "source": [
    "tasaDiara_df = tasaDiara_df.sort_index()"
   ]
  },
  {
   "cell_type": "code",
   "execution_count": 52,
   "metadata": {},
   "outputs": [
    {
     "data": {
      "image/png": "[encoded data removed]",
      "text/plain": [
       "<matplotlib.figure.Figure at 0x7f0589c37c90>"
      ]
     },
     "metadata": {},
     "output_type": "display_data"
    }
   ],
   "source": [
    "tasaDiara_df.plot(title = \"Tasa promedio diaria\", rot = 45)\n",
    "plt.savefig(\"Rueda LECE tasa promedio diaria.png\", bbox_inches=\"tight\")"
   ]
  },
  {
   "cell_type": "code",
   "execution_count": 53,
   "metadata": {
    "collapsed": true
   },
   "outputs": [],
   "source": [
    "titles.append(\"Rueda LECE tasa promedio diaria\")"
   ]
  },
  {
   "cell_type": "code",
   "execution_count": 54,
   "metadata": {
    "collapsed": true
   },
   "outputs": [],
   "source": [
    "from PIL import Image"
   ]
  },
  {
   "cell_type": "code",
   "execution_count": 55,
   "metadata": {
    "collapsed": true
   },
   "outputs": [],
   "source": [
    "hojas_excel=[('Cantidad de operaciones',('Rueda LECE operaciones de venta - Cantidad de operaciones','Rueda LECE operaciones de venta - Cantidad de operaciones top 5','Rueda LECE operaciones de compra - Cantidad de operaciones','Rueda LECE operaciones de venta - Cantidad de operaciones top 5')),\n",
    "             ('Valor nominal total',('Rueda LECE operaciones de venta - Valor nominal total (En millones)','Rueda LECE operaciones de venta - Valor nominal total (En millones) top 5', 'Rueda LECE operaciones de compra - Valor nominal total (En millones)','Rueda LECE operaciones de compra - Valor nominal total (En millones) top 5')),\n",
    "            ('Importe total',('Rueda LECE operaciones de venta - Importe total (En millones)', 'Rueda LECE operaciones de venta - Importe total (En millones) top 5', 'Rueda LECE operaciones de compra - Importe total (En millones)', 'Rueda LECE operaciones de compra - Importe total (En millones) top 5')),\n",
    "            ('Tasa promedio diaria',('Rueda LECE tasa promedio diaria',))]"
   ]
  },
  {
   "cell_type": "code",
   "execution_count": 56,
   "metadata": {
    "collapsed": true
   },
   "outputs": [],
   "source": [
    "from xlwt import Workbook\n",
    "w = Workbook()"
   ]
  },
  {
   "cell_type": "code",
   "execution_count": 57,
   "metadata": {
    "collapsed": true
   },
   "outputs": [],
   "source": [
    "\n",
    "#for title in titles:\n",
    "for tupla in hojas_excel:\n",
    "    position = 0\n",
    "    hoja = tupla[0]\n",
    "    ws = w.add_sheet(hoja)\n",
    "    titles = tupla[1]\n",
    "    for title in titles:\n",
    "        file_in = title+\".png\"\n",
    "        print(titles)\n",
    "        print(file_in)\n",
    "        img = Image.open(file_in)\n",
    "        file_out = 'test1.bmp'\n",
    "       # print len(img.split()) # test\n",
    "        if len(img.split()) == 4:\n",
    "            # prevent IOError: cannot write mode RGBA as BMP\n",
    "            r, g, b, a = img.split()\n",
    "            img = Image.merge(\"RGB\", (r, g, b))\n",
    "            img.save(file_out)\n",
    "        else:\n",
    "            img.save(file_out)\n",
    "\n",
    "        ws.insert_bitmap(file_out, position, 0)\n",
    "        position += 50\n",
    "w.save('graficos.xls')"
   ]
  },
  {
   "cell_type": "code",
   "execution_count": null,
   "metadata": {
    "collapsed": true
   },
   "outputs": [],
   "source": []
  },
  {
   "cell_type": "code",
   "execution_count": null,
   "metadata": {
    "collapsed": true
   },
   "outputs": [],
   "source": []
  },
  {
   "cell_type": "code",
   "execution_count": null,
   "metadata": {
    "collapsed": true
   },
   "outputs": [],
   "source": []
  },
  {
   "cell_type": "code",
   "execution_count": null,
   "metadata": {
    "collapsed": true
   },
   "outputs": [],
   "source": []
  }
 ],
 "metadata": {
  "kernelspec": {
   "display_name": "VPython",
   "language": "python",
   "name": "vpython"
  },
  "language_info": {
   "codemirror_mode": {
    "name": "ipython",
    "version": 2
   },
   "file_extension": ".py",
   "mimetype": "text/x-python",
   "name": "python",
   "nbconvert_exporter": "python",
   "pygments_lexer": "ipython2",
   "version": "2.7.13"
  }
 },
 "nbformat": 4,
 "nbformat_minor": 2
}
